{
 "cells": [
  {
   "cell_type": "code",
   "execution_count": 15,
   "id": "13619a22-547d-4474-8733-6d5054feea51",
   "metadata": {},
   "outputs": [],
   "source": [
    "#loading the libraries\n",
    "import pandas as pd\n",
    "import numpy as np\n",
    "import matplotlib.pyplot as plt\n",
    "import seaborn as sns\n",
    "from sklearn.preprocessing import StandardScaler\n",
    "from sklearn.model_selection import train_test_split,cross_val_score,GridSearchCV\n",
    "from sklearn.metrics import r2_score\n",
    "from sklearn.neighbors import KNeighborsRegressor\n",
    "from sklearn.metrics import mean_squared_error,root_mean_squared_error\n",
    "import warnings\n",
    "warnings.filterwarnings('ignore')"
   ]
  },
  {
   "cell_type": "code",
   "execution_count": 17,
   "id": "ec6e4148-47dc-47ea-9bf7-bc4034f21bb8",
   "metadata": {},
   "outputs": [],
   "source": [
    "df=pd.read_excel('cleaned.xlsx')\n"
   ]
  },
  {
   "cell_type": "code",
   "execution_count": 19,
   "id": "75495262-ee88-4ffc-a94c-9f30a5656c1d",
   "metadata": {},
   "outputs": [
    {
     "data": {
      "text/html": [
       "<div>\n",
       "<style scoped>\n",
       "    .dataframe tbody tr th:only-of-type {\n",
       "        vertical-align: middle;\n",
       "    }\n",
       "\n",
       "    .dataframe tbody tr th {\n",
       "        vertical-align: top;\n",
       "    }\n",
       "\n",
       "    .dataframe thead th {\n",
       "        text-align: right;\n",
       "    }\n",
       "</style>\n",
       "<table border=\"1\" class=\"dataframe\">\n",
       "  <thead>\n",
       "    <tr style=\"text-align: right;\">\n",
       "      <th></th>\n",
       "      <th>Year</th>\n",
       "      <th>Selling_Price</th>\n",
       "      <th>Present_Price</th>\n",
       "      <th>Kms_Driven</th>\n",
       "      <th>Fuel_Type_Diesel</th>\n",
       "      <th>Seller_Type_Individual</th>\n",
       "      <th>Transmission_Manual</th>\n",
       "    </tr>\n",
       "  </thead>\n",
       "  <tbody>\n",
       "    <tr>\n",
       "      <th>0</th>\n",
       "      <td>2014</td>\n",
       "      <td>3.35</td>\n",
       "      <td>1.720979</td>\n",
       "      <td>98.907149</td>\n",
       "      <td>0</td>\n",
       "      <td>0</td>\n",
       "      <td>1</td>\n",
       "    </tr>\n",
       "    <tr>\n",
       "      <th>1</th>\n",
       "      <td>2013</td>\n",
       "      <td>4.75</td>\n",
       "      <td>2.255493</td>\n",
       "      <td>116.919996</td>\n",
       "      <td>1</td>\n",
       "      <td>0</td>\n",
       "      <td>1</td>\n",
       "    </tr>\n",
       "    <tr>\n",
       "      <th>2</th>\n",
       "      <td>2017</td>\n",
       "      <td>7.25</td>\n",
       "      <td>2.287471</td>\n",
       "      <td>60.252218</td>\n",
       "      <td>0</td>\n",
       "      <td>0</td>\n",
       "      <td>1</td>\n",
       "    </tr>\n",
       "    <tr>\n",
       "      <th>3</th>\n",
       "      <td>2011</td>\n",
       "      <td>2.85</td>\n",
       "      <td>1.423108</td>\n",
       "      <td>54.300312</td>\n",
       "      <td>0</td>\n",
       "      <td>0</td>\n",
       "      <td>1</td>\n",
       "    </tr>\n",
       "    <tr>\n",
       "      <th>4</th>\n",
       "      <td>2014</td>\n",
       "      <td>4.60</td>\n",
       "      <td>1.927164</td>\n",
       "      <td>116.381220</td>\n",
       "      <td>1</td>\n",
       "      <td>0</td>\n",
       "      <td>1</td>\n",
       "    </tr>\n",
       "    <tr>\n",
       "      <th>...</th>\n",
       "      <td>...</td>\n",
       "      <td>...</td>\n",
       "      <td>...</td>\n",
       "      <td>...</td>\n",
       "      <td>...</td>\n",
       "      <td>...</td>\n",
       "      <td>...</td>\n",
       "    </tr>\n",
       "    <tr>\n",
       "      <th>291</th>\n",
       "      <td>2016</td>\n",
       "      <td>9.50</td>\n",
       "      <td>2.451005</td>\n",
       "      <td>107.449775</td>\n",
       "      <td>1</td>\n",
       "      <td>0</td>\n",
       "      <td>1</td>\n",
       "    </tr>\n",
       "    <tr>\n",
       "      <th>292</th>\n",
       "      <td>2015</td>\n",
       "      <td>4.00</td>\n",
       "      <td>1.774952</td>\n",
       "      <td>131.742217</td>\n",
       "      <td>0</td>\n",
       "      <td>0</td>\n",
       "      <td>1</td>\n",
       "    </tr>\n",
       "    <tr>\n",
       "      <th>293</th>\n",
       "      <td>2009</td>\n",
       "      <td>3.35</td>\n",
       "      <td>2.397895</td>\n",
       "      <td>151.021928</td>\n",
       "      <td>0</td>\n",
       "      <td>0</td>\n",
       "      <td>1</td>\n",
       "    </tr>\n",
       "    <tr>\n",
       "      <th>294</th>\n",
       "      <td>2017</td>\n",
       "      <td>11.50</td>\n",
       "      <td>2.525729</td>\n",
       "      <td>66.406442</td>\n",
       "      <td>1</td>\n",
       "      <td>0</td>\n",
       "      <td>1</td>\n",
       "    </tr>\n",
       "    <tr>\n",
       "      <th>295</th>\n",
       "      <td>2016</td>\n",
       "      <td>5.30</td>\n",
       "      <td>1.774952</td>\n",
       "      <td>55.300233</td>\n",
       "      <td>0</td>\n",
       "      <td>0</td>\n",
       "      <td>1</td>\n",
       "    </tr>\n",
       "  </tbody>\n",
       "</table>\n",
       "<p>296 rows × 7 columns</p>\n",
       "</div>"
      ],
      "text/plain": [
       "     Year  Selling_Price  Present_Price  Kms_Driven  Fuel_Type_Diesel  \\\n",
       "0    2014           3.35       1.720979   98.907149                 0   \n",
       "1    2013           4.75       2.255493  116.919996                 1   \n",
       "2    2017           7.25       2.287471   60.252218                 0   \n",
       "3    2011           2.85       1.423108   54.300312                 0   \n",
       "4    2014           4.60       1.927164  116.381220                 1   \n",
       "..    ...            ...            ...         ...               ...   \n",
       "291  2016           9.50       2.451005  107.449775                 1   \n",
       "292  2015           4.00       1.774952  131.742217                 0   \n",
       "293  2009           3.35       2.397895  151.021928                 0   \n",
       "294  2017          11.50       2.525729   66.406442                 1   \n",
       "295  2016           5.30       1.774952   55.300233                 0   \n",
       "\n",
       "     Seller_Type_Individual  Transmission_Manual  \n",
       "0                         0                    1  \n",
       "1                         0                    1  \n",
       "2                         0                    1  \n",
       "3                         0                    1  \n",
       "4                         0                    1  \n",
       "..                      ...                  ...  \n",
       "291                       0                    1  \n",
       "292                       0                    1  \n",
       "293                       0                    1  \n",
       "294                       0                    1  \n",
       "295                       0                    1  \n",
       "\n",
       "[296 rows x 7 columns]"
      ]
     },
     "execution_count": 19,
     "metadata": {},
     "output_type": "execute_result"
    }
   ],
   "source": [
    "df"
   ]
  },
  {
   "cell_type": "code",
   "execution_count": 21,
   "id": "9cd19034-431e-48f3-b01e-8d0243a68aac",
   "metadata": {},
   "outputs": [],
   "source": [
    "sc=StandardScaler()"
   ]
  },
  {
   "cell_type": "code",
   "execution_count": 23,
   "id": "7acf9bcd-aa0f-45ee-9339-a7e48ddeeae0",
   "metadata": {},
   "outputs": [],
   "source": [
    "df['Kms_Driven']=sc.fit_transform(df[['Kms_Driven']])\n",
    "df['Kms_Driven']=sc.transform(df[['Kms_Driven']])"
   ]
  },
  {
   "cell_type": "code",
   "execution_count": 25,
   "id": "4b0aa504-a49b-4fd9-af5d-cf95eb709eab",
   "metadata": {},
   "outputs": [],
   "source": [
    "df['Present_Price']=sc.fit_transform(df[['Present_Price']])\n",
    "df['Present_Price']=sc.transform(df[['Present_Price']])"
   ]
  },
  {
   "cell_type": "markdown",
   "id": "27329e61-23a8-4a52-912a-dec43dcc0205",
   "metadata": {},
   "source": [
    "- Here we have to do scaling because the knn works with distance formulae so if the data points are with high magnitude leads to biased\n",
    "so we have to use scaling"
   ]
  },
  {
   "cell_type": "code",
   "execution_count": 28,
   "id": "259bf522-fd30-491e-972c-a6cc152aa8e4",
   "metadata": {},
   "outputs": [],
   "source": [
    "X=df.drop('Selling_Price',axis=1)\n",
    "y=df['Selling_Price']"
   ]
  },
  {
   "cell_type": "markdown",
   "id": "1c64c5e6-b3e7-4e1f-88e4-6307ef7bd04b",
   "metadata": {},
   "source": [
    "- splitting the x and y "
   ]
  },
  {
   "cell_type": "code",
   "execution_count": 31,
   "id": "2c080d2e-a187-477d-8d04-3d16a995756b",
   "metadata": {},
   "outputs": [],
   "source": [
    "X_train,X_test,y_train,y_test=train_test_split(X,y,test_size=0.2,random_state=94)"
   ]
  },
  {
   "cell_type": "markdown",
   "id": "873a7343-a3b3-4a15-92d3-35496954886c",
   "metadata": {},
   "source": [
    "- Using the train test split dividing the data into test data train data\n",
    "- Train data is used for training purpose\n",
    "- And the test data is used for prediction or evaluation purpose"
   ]
  },
  {
   "cell_type": "markdown",
   "id": "e3033cf8-48ea-4fa3-981b-c0b9e375c9a3",
   "metadata": {},
   "source": [
    "# Modelling The Data"
   ]
  },
  {
   "cell_type": "code",
   "execution_count": 108,
   "id": "2832ccb4-955a-4043-b6d6-74991772ded6",
   "metadata": {},
   "outputs": [
    {
     "name": "stdout",
     "output_type": "stream",
     "text": [
      "train_r2: 1.0\n",
      "crossvalidation: 0.7986033873281263\n"
     ]
    }
   ],
   "source": [
    "knnr=KNeighborsRegressor(n_neighbors=4,p=1,weights='distance',metric='minkowski')\n",
    "knnr.fit(X_train,y_train)\n",
    "y_train_pred=knnr.predict(X_train)\n",
    "train_r2=r2_score(y_train,y_train_pred)\n",
    "crossvalidation=cross_val_score(knnr,X_train,y_train,cv=5,scoring='r2').mean()\n",
    "train_mse=mean_squared_error(y_train,y_train_pred)\n",
    "train_rmse=root_mean_squared_error(y_train,y_train_pred)\n",
    "print('train_r2:',train_r2)\n",
    "print('crossvalidation:',crossvalidation)"
   ]
  },
  {
   "cell_type": "markdown",
   "id": "e30a4da4-76e3-492f-a5b5-0dd02bc300fc",
   "metadata": {},
   "source": [
    "- Here it using four data points also known as neighbour points \n",
    "- Here the model is used Euclidean distance\n",
    "- weights are taken according to the distance\n",
    "- When im using thsi the train accuracy is 100% and cv is 79%"
   ]
  },
  {
   "cell_type": "markdown",
   "id": "6878af93-7e15-433c-be4e-245c7277f593",
   "metadata": {},
   "source": [
    "# Prediction"
   ]
  },
  {
   "cell_type": "code",
   "execution_count": 110,
   "id": "0e5e83ec-c74c-475c-8fe6-9c9408a41480",
   "metadata": {},
   "outputs": [
    {
     "name": "stdout",
     "output_type": "stream",
     "text": [
      "test_r2: 0.8609507564491261\n"
     ]
    }
   ],
   "source": [
    "y_test_pred=knnr.predict(X_test)\n",
    "test_r2=r2_score(y_test,y_test_pred)\n",
    "print('test_r2:',test_r2)"
   ]
  },
  {
   "cell_type": "code",
   "execution_count": null,
   "id": "82b6effe-965a-4d72-8778-a515e6544cb2",
   "metadata": {},
   "outputs": [],
   "source": [
    "- Train accuracy is 86%"
   ]
  },
  {
   "cell_type": "markdown",
   "id": "91033716-59ca-41bd-99b1-60a35a95576c",
   "metadata": {},
   "source": [
    "# Test evalution metrics"
   ]
  },
  {
   "cell_type": "code",
   "execution_count": 112,
   "id": "1cf11108-f7c8-4084-9a3f-3969b3313d19",
   "metadata": {},
   "outputs": [
    {
     "name": "stdout",
     "output_type": "stream",
     "text": [
      "test_mse: 3.463961673206843\n",
      "test_rmse: 1.86117212347672\n"
     ]
    }
   ],
   "source": [
    "test_mse=mean_squared_error(y_test,y_test_pred)\n",
    "test_rmse=root_mean_squared_error(y_test,y_test_pred)\n",
    "print('test_mse:',test_mse)\n",
    "print('test_rmse:',test_rmse)"
   ]
  },
  {
   "cell_type": "markdown",
   "id": "0e68fbbb-f421-4e04-ac36-57efee6a83f0",
   "metadata": {},
   "source": [
    "The mse is 3.4\n",
    "and the rmse is 1.8\n",
    "from those the error rate was decreased"
   ]
  },
  {
   "cell_type": "markdown",
   "id": "ea2016b0-7aed-4189-97ff-7be05094c422",
   "metadata": {},
   "source": [
    "**Plotting the Best Fit Line**"
   ]
  },
  {
   "cell_type": "code",
   "execution_count": 132,
   "id": "8834a6e6-8318-48d4-8a3c-6bff7aec8a4a",
   "metadata": {},
   "outputs": [],
   "source": [
    "residuals=y_test-y_test_pred"
   ]
  },
  {
   "cell_type": "code",
   "execution_count": 138,
   "id": "84b1e90c-2959-4eaa-a7d0-f7cb320b55bf",
   "metadata": {},
   "outputs": [
    {
     "data": {
      "image/png": "[encoded data removed]",
      "text/plain": [
       "<Figure size 640x480 with 1 Axes>"
      ]
     },
     "metadata": {},
     "output_type": "display_data"
    }
   ],
   "source": [
    "plt.scatter(y_test,y_test_pred,color='g',label='Actual vs predicted')\n",
    "plt.plot([min(y_test), max(y_test)], [min(y_test), max(y_test)], \n",
    "         color='r', linestyle='--', label='Perfect Prediction Line')\n",
    "plt.xlabel('Actual_values')\n",
    "plt.ylabel('Errors')\n",
    "plt.legend()\n",
    "plt.title('KNN Test')\n",
    "plt.show()"
   ]
  },
  {
   "cell_type": "markdown",
   "id": "fdc0af5e-677a-437c-a80c-8c5defa55992",
   "metadata": {},
   "source": [
    "- from the above we conclude that for small datapoints it is predicting the output with low error \n",
    "- But for large errors it is predicting with high error\n",
    "- For actual large values the model is predictions deviates significantly from the red line"
   ]
  },
  {
   "cell_type": "code",
   "execution_count": null,
   "id": "9e17fd54-9eda-4a25-affd-5b8498bb3825",
   "metadata": {},
   "outputs": [],
   "source": [
    "**Plotting the residual plot)"
   ]
  },
  {
   "cell_type": "code",
   "execution_count": 195,
   "id": "bbc40f43-2be0-4236-8c84-db5ee9dfeebe",
   "metadata": {},
   "outputs": [
    {
     "data": {
      "image/png": "[encoded data removed]",
      "text/plain": [
       "<Figure size 640x480 with 1 Axes>"
      ]
     },
     "metadata": {},
     "output_type": "display_data"
    }
   ],
   "source": [
    "residulas=y_test-y_test_pred\n",
    "plt.scatter(y_test,residuals,color='b',label='Residuals')\n",
    "plt.axhline(0,color='r',ls='--',label='Zero Error Line')\n",
    "plt.ylabel('Residuals')\n",
    "plt.xlabel('Actual Values')\n",
    "plt.xticks(range(0,25))\n",
    "plt.yticks(np.arange(-7, 11, 1))  \n",
    "plt.title('Residual plot(KNNRegression)')\n",
    "plt.legend()\n",
    "plt.show()"
   ]
  },
  {
   "cell_type": "markdown",
   "id": "4223ce51-b670-4c4f-a690-f3000e672e16",
   "metadata": {},
   "source": [
    "**Hyper Parameter Tuning**"
   ]
  },
  {
   "cell_type": "code",
   "execution_count": 51,
   "id": "88e72e82-f36f-4f4f-b97f-884de3b80cd5",
   "metadata": {},
   "outputs": [
    {
     "data": {
      "text/plain": [
       "{'metric': 'minkowski', 'n_neighbors': 4, 'p': 1, 'weights': 'distance'}"
      ]
     },
     "execution_count": 51,
     "metadata": {},
     "output_type": "execute_result"
    }
   ],
   "source": [
    "estimator=KNeighborsRegressor()\n",
    "param_grid={'n_neighbors':list(range(1,20)),\n",
    "            'weights':['uniform','distance'],\n",
    "            'metric':['minkowski'],\n",
    "            'p':[1,2]}\n",
    "gd=GridSearchCV(estimator,param_grid,cv=5,scoring='r2')\n",
    "gd.fit(X_train,y_train)\n",
    "gd.best_params_"
   ]
  },
  {
   "cell_type": "code",
   "execution_count": null,
   "id": "519b9754-457e-41b7-b752-61897978cb60",
   "metadata": {},
   "outputs": [],
   "source": []
  }
 ],
 "metadata": {
  "kernelspec": {
   "display_name": "Python 3 (ipykernel)",
   "language": "python",
   "name": "python3"
  },
  "language_info": {
   "codemirror_mode": {
    "name": "ipython",
    "version": 3
   },
   "file_extension": ".py",
   "mimetype": "text/x-python",
   "name": "python",
   "nbconvert_exporter": "python",
   "pygments_lexer": "ipython3",
   "version": "3.12.4"
  }
 },
 "nbformat": 4,
 "nbformat_minor": 5
}
