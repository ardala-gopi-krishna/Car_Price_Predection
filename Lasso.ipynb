{
 "cells": [
  {
   "cell_type": "code",
   "execution_count": 22,
   "id": "f1a8afc9-4488-4ab4-af80-713a901c81ee",
   "metadata": {},
   "outputs": [],
   "source": [
    "import pandas as pd\n",
    "import numpy as np\n",
    "import seaborn as sns\n",
    "import matplotlib.pyplot as plt\n",
    "from sklearn.metrics import mean_squared_error,r2_score\n",
    "from sklearn.model_selection import train_test_split,cross_val_score,GridSearchCV\n",
    "from sklearn.linear_model import Lasso\n",
    "from sklearn.preprocessing import StandardScaler\n",
    "from sklearn.decomposition import PCA\n",
    "from sklearn.metrics import mean_squared_error"
   ]
  },
  {
   "cell_type": "code",
   "execution_count": 2,
   "id": "26da8cc5-dd6b-436d-8c45-7d124361cd07",
   "metadata": {},
   "outputs": [],
   "source": [
    "df=pd.read_excel('cleaned.xlsx')"
   ]
  },
  {
   "cell_type": "code",
   "execution_count": 3,
   "id": "1dbdba9f-fd4e-4267-b3dc-45e4ce608910",
   "metadata": {},
   "outputs": [
    {
     "data": {
      "text/html": [
       "<div>\n",
       "<style scoped>\n",
       "    .dataframe tbody tr th:only-of-type {\n",
       "        vertical-align: middle;\n",
       "    }\n",
       "\n",
       "    .dataframe tbody tr th {\n",
       "        vertical-align: top;\n",
       "    }\n",
       "\n",
       "    .dataframe thead th {\n",
       "        text-align: right;\n",
       "    }\n",
       "</style>\n",
       "<table border=\"1\" class=\"dataframe\">\n",
       "  <thead>\n",
       "    <tr style=\"text-align: right;\">\n",
       "      <th></th>\n",
       "      <th>Year</th>\n",
       "      <th>Selling_Price</th>\n",
       "      <th>Present_Price</th>\n",
       "      <th>Kms_Driven</th>\n",
       "      <th>Fuel_Type_Diesel</th>\n",
       "      <th>Seller_Type_Individual</th>\n",
       "      <th>Transmission_Manual</th>\n",
       "    </tr>\n",
       "  </thead>\n",
       "  <tbody>\n",
       "    <tr>\n",
       "      <th>0</th>\n",
       "      <td>2014</td>\n",
       "      <td>3.35</td>\n",
       "      <td>1.720979</td>\n",
       "      <td>98.907149</td>\n",
       "      <td>0</td>\n",
       "      <td>0</td>\n",
       "      <td>1</td>\n",
       "    </tr>\n",
       "    <tr>\n",
       "      <th>1</th>\n",
       "      <td>2013</td>\n",
       "      <td>4.75</td>\n",
       "      <td>2.255493</td>\n",
       "      <td>116.919996</td>\n",
       "      <td>1</td>\n",
       "      <td>0</td>\n",
       "      <td>1</td>\n",
       "    </tr>\n",
       "    <tr>\n",
       "      <th>2</th>\n",
       "      <td>2017</td>\n",
       "      <td>7.25</td>\n",
       "      <td>2.287471</td>\n",
       "      <td>60.252218</td>\n",
       "      <td>0</td>\n",
       "      <td>0</td>\n",
       "      <td>1</td>\n",
       "    </tr>\n",
       "    <tr>\n",
       "      <th>3</th>\n",
       "      <td>2011</td>\n",
       "      <td>2.85</td>\n",
       "      <td>1.423108</td>\n",
       "      <td>54.300312</td>\n",
       "      <td>0</td>\n",
       "      <td>0</td>\n",
       "      <td>1</td>\n",
       "    </tr>\n",
       "    <tr>\n",
       "      <th>4</th>\n",
       "      <td>2014</td>\n",
       "      <td>4.60</td>\n",
       "      <td>1.927164</td>\n",
       "      <td>116.381220</td>\n",
       "      <td>1</td>\n",
       "      <td>0</td>\n",
       "      <td>1</td>\n",
       "    </tr>\n",
       "    <tr>\n",
       "      <th>...</th>\n",
       "      <td>...</td>\n",
       "      <td>...</td>\n",
       "      <td>...</td>\n",
       "      <td>...</td>\n",
       "      <td>...</td>\n",
       "      <td>...</td>\n",
       "      <td>...</td>\n",
       "    </tr>\n",
       "    <tr>\n",
       "      <th>291</th>\n",
       "      <td>2016</td>\n",
       "      <td>9.50</td>\n",
       "      <td>2.451005</td>\n",
       "      <td>107.449775</td>\n",
       "      <td>1</td>\n",
       "      <td>0</td>\n",
       "      <td>1</td>\n",
       "    </tr>\n",
       "    <tr>\n",
       "      <th>292</th>\n",
       "      <td>2015</td>\n",
       "      <td>4.00</td>\n",
       "      <td>1.774952</td>\n",
       "      <td>131.742217</td>\n",
       "      <td>0</td>\n",
       "      <td>0</td>\n",
       "      <td>1</td>\n",
       "    </tr>\n",
       "    <tr>\n",
       "      <th>293</th>\n",
       "      <td>2009</td>\n",
       "      <td>3.35</td>\n",
       "      <td>2.397895</td>\n",
       "      <td>151.021928</td>\n",
       "      <td>0</td>\n",
       "      <td>0</td>\n",
       "      <td>1</td>\n",
       "    </tr>\n",
       "    <tr>\n",
       "      <th>294</th>\n",
       "      <td>2017</td>\n",
       "      <td>11.50</td>\n",
       "      <td>2.525729</td>\n",
       "      <td>66.406442</td>\n",
       "      <td>1</td>\n",
       "      <td>0</td>\n",
       "      <td>1</td>\n",
       "    </tr>\n",
       "    <tr>\n",
       "      <th>295</th>\n",
       "      <td>2016</td>\n",
       "      <td>5.30</td>\n",
       "      <td>1.774952</td>\n",
       "      <td>55.300233</td>\n",
       "      <td>0</td>\n",
       "      <td>0</td>\n",
       "      <td>1</td>\n",
       "    </tr>\n",
       "  </tbody>\n",
       "</table>\n",
       "<p>296 rows × 7 columns</p>\n",
       "</div>"
      ],
      "text/plain": [
       "     Year  Selling_Price  Present_Price  Kms_Driven  Fuel_Type_Diesel  \\\n",
       "0    2014           3.35       1.720979   98.907149                 0   \n",
       "1    2013           4.75       2.255493  116.919996                 1   \n",
       "2    2017           7.25       2.287471   60.252218                 0   \n",
       "3    2011           2.85       1.423108   54.300312                 0   \n",
       "4    2014           4.60       1.927164  116.381220                 1   \n",
       "..    ...            ...            ...         ...               ...   \n",
       "291  2016           9.50       2.451005  107.449775                 1   \n",
       "292  2015           4.00       1.774952  131.742217                 0   \n",
       "293  2009           3.35       2.397895  151.021928                 0   \n",
       "294  2017          11.50       2.525729   66.406442                 1   \n",
       "295  2016           5.30       1.774952   55.300233                 0   \n",
       "\n",
       "     Seller_Type_Individual  Transmission_Manual  \n",
       "0                         0                    1  \n",
       "1                         0                    1  \n",
       "2                         0                    1  \n",
       "3                         0                    1  \n",
       "4                         0                    1  \n",
       "..                      ...                  ...  \n",
       "291                       0                    1  \n",
       "292                       0                    1  \n",
       "293                       0                    1  \n",
       "294                       0                    1  \n",
       "295                       0                    1  \n",
       "\n",
       "[296 rows x 7 columns]"
      ]
     },
     "execution_count": 3,
     "metadata": {},
     "output_type": "execute_result"
    }
   ],
   "source": [
    "df"
   ]
  },
  {
   "cell_type": "code",
   "execution_count": 4,
   "id": "6da745b7-1e01-4fd7-bc3d-b355deb5e862",
   "metadata": {},
   "outputs": [],
   "source": [
    "sc=StandardScaler()\n",
    "df['Present_Price']=sc.fit_transform(df[['Present_Price']])\n",
    "df['Kms_Driven']=sc.fit_transform(df[['Kms_Driven']])"
   ]
  },
  {
   "cell_type": "code",
   "execution_count": 5,
   "id": "d798f253-a689-4daf-a7cd-206ce2f9153c",
   "metadata": {},
   "outputs": [],
   "source": [
    "X=df.drop(columns='Selling_Price')\n",
    "y=df['Selling_Price']"
   ]
  },
  {
   "cell_type": "code",
   "execution_count": 6,
   "id": "3ce7a4dc-0feb-4a4b-99d7-14523d9ce6d9",
   "metadata": {},
   "outputs": [],
   "source": [
    "X_train,X_test,y_train,y_test=train_test_split(X,y,test_size=0.2,random_state=94)"
   ]
  },
  {
   "cell_type": "code",
   "execution_count": 7,
   "id": "d6254123-5a89-4315-9c66-964b6d253def",
   "metadata": {},
   "outputs": [],
   "source": [
    "model=PCA(n_components=0.95)\n",
    "X_train=model.fit_transform(X_train)\n",
    "X_test=model.transform(X_test)"
   ]
  },
  {
   "cell_type": "code",
   "execution_count": 8,
   "id": "2ce8ed89-c87c-4a3f-8839-e7bfca7f4eca",
   "metadata": {},
   "outputs": [
    {
     "data": {
      "text/plain": [
       "array([0.79523121, 0.14016217, 0.04053705])"
      ]
     },
     "execution_count": 8,
     "metadata": {},
     "output_type": "execute_result"
    }
   ],
   "source": [
    "model.explained_variance_ratio_"
   ]
  },
  {
   "cell_type": "code",
   "execution_count": 26,
   "id": "98b2049a-af6e-42d9-80a3-2014f9f19d78",
   "metadata": {},
   "outputs": [
    {
     "data": {
      "text/plain": [
       "{'alpha': 1}"
      ]
     },
     "execution_count": 26,
     "metadata": {},
     "output_type": "execute_result"
    }
   ],
   "source": [
    "estimator=Lasso()\n",
    "param_grid={'alpha':list(range(1,100))}\n",
    "gd=GridSearchCV(estimator,param_grid,cv=5,scoring='r2')\n",
    "gd.fit(X_train,y_train)\n",
    "gd.best_params_"
   ]
  },
  {
   "cell_type": "code",
   "execution_count": 34,
   "id": "31c62a5d-5e12-4fd4-a84b-5f3446844ded",
   "metadata": {},
   "outputs": [
    {
     "name": "stdout",
     "output_type": "stream",
     "text": [
      "Coefficients of the model: [-0.23120316 -2.29603665 -0.        ]\n",
      "Intercept of the model: 4.524703389830486\n",
      "Train_r2 0.5348565160733416\n",
      "Cross validation score is: 0.5515730000523877\n"
     ]
    }
   ],
   "source": [
    "#modeling\n",
    "\n",
    "model=Lasso(alpha=1)\n",
    "model.fit(X_train,y_train)\n",
    "train_r2=r2_score(y_train,model.predict(X_train))\n",
    "cross=cross_val_score(model,X_train,y_train,cv=5,scoring='r2').mean()\n",
    "print('Coefficients of the model:',model.coef_)\n",
    "print('Intercept of the model:',model.intercept_)\n",
    "print(\"Train_r2\",train_r2)\n",
    "print('Cross validation score is:',cross)"
   ]
  },
  {
   "cell_type": "code",
   "execution_count": 36,
   "id": "edfe20c8-0f10-4993-afe5-e5cb9155dda4",
   "metadata": {},
   "outputs": [
    {
     "name": "stdout",
     "output_type": "stream",
     "text": [
      "train rmse : 3\n"
     ]
    }
   ],
   "source": [
    "train_rmse=mean_squared_error(y_train,model.predict(X_train))\n",
    "print('train rmse :',round(train_rmse**0.5))"
   ]
  },
  {
   "cell_type": "code",
   "execution_count": 38,
   "id": "b1a29384-a3a8-41c3-b0cc-254f03b2ed35",
   "metadata": {},
   "outputs": [
    {
     "name": "stdout",
     "output_type": "stream",
     "text": [
      "test_r2: 0.5038509005260399\n"
     ]
    }
   ],
   "source": [
    "#Evaluation\n",
    "y_test_pred=model.predict(X_test)\n",
    "test_r2=r2_score(y_test,y_test_pred)\n",
    "print('test_r2:',test_r2)\n"
   ]
  },
  {
   "cell_type": "code",
   "execution_count": 16,
   "id": "7116e5d0-b7d5-4c7e-8812-b8db37f07979",
   "metadata": {},
   "outputs": [
    {
     "name": "stdout",
     "output_type": "stream",
     "text": [
      "test rmse : 4\n"
     ]
    }
   ],
   "source": [
    "test_rmse=mean_squared_error(y_test,y_test_pred)\n",
    "print('test rmse :',round(test_rmse**0.5))"
   ]
  },
  {
   "cell_type": "code",
   "execution_count": null,
   "id": "05ac8b76-cd32-4820-adc4-0cacc63cd527",
   "metadata": {},
   "outputs": [],
   "source": []
  },
  {
   "cell_type": "code",
   "execution_count": null,
   "id": "05b3d736-0671-4a34-8b91-15d3f1e16ae4",
   "metadata": {},
   "outputs": [],
   "source": []
  },
  {
   "cell_type": "code",
   "execution_count": null,
   "id": "e6cb94df-2be1-4d0e-81ef-d713f9025fa0",
   "metadata": {},
   "outputs": [],
   "source": []
  },
  {
   "cell_type": "code",
   "execution_count": null,
   "id": "d99ada32-ae96-4731-a757-0cf224aef7ac",
   "metadata": {},
   "outputs": [],
   "source": []
  }
 ],
 "metadata": {
  "kernelspec": {
   "display_name": "Python 3 (ipykernel)",
   "language": "python",
   "name": "python3"
  },
  "language_info": {
   "codemirror_mode": {
    "name": "ipython",
    "version": 3
   },
   "file_extension": ".py",
   "mimetype": "text/x-python",
   "name": "python",
   "nbconvert_exporter": "python",
   "pygments_lexer": "ipython3",
   "version": "3.12.4"
  }
 },
 "nbformat": 4,
 "nbformat_minor": 5
}
